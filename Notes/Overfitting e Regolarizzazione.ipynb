{
 "cells": [
  {
   "cell_type": "markdown",
   "metadata": {},
   "source": [
    "# **Overfitting e Regolarizzazione**"
   ]
  },
  {
   "cell_type": "markdown",
   "metadata": {},
   "source": [
    "Nella lezione precedente abbiamo limitato il training delle reti neurali a 10 epoche, usando come metrica di test esclusivamente l'accuratezza sui dati di training.\n",
    "\n",
    "Tuttavia, se proseguissimo nel training e valutassimo anche l'*accuratezza sui dati di validazione*, noteremmo che ad una certa epoca questa raggiungerà un picco, per poi iniziare a *stagnare* o, in alcuni casi, *diminuire*: in altre parole, il nostro modello andrà incontro ad **overfitting**. Gestire correttamente questa situazione è molto importante: infatti, ottenere un'elevata accuratezza sui dati di training non è importante quanto sviluppare un modello in grado di generalizzare su dati che non ha visto durante l'addestramento.\n",
    "\n",
    "L'opposto dell'overfitting è, abbastanza prevedibilmente, l'**underfitting**, situazione che si verifica quando vi è ancora la possibilità di migliorare il modello. Di solito, l'underfitting si verifica nel momento in cui un modello non è abbastanza descrittivo, oppure quando non è stato addestrato per un numero di epoche sufficienti, non permettendo alla rete di caratterizzare i pattern di rilievo presenti nei dati.\n",
    "\n",
    "Ovviamente, trovare i parametri ottimali di addestramento significa trovare un *equilibrio tra overfitting ed underfitting*. In primis, infatti, è necessario scegliere accuratamente il *numero di epoche* di addestramento, per evitare una scarsa (o al contrario eccessiva) adesione del modello ai dati. Inoltre, è necessario verificare che i dati di training utilizzati siano adeguati, seguendo magari le indicazioni date in precedenza; infine, qualora questi passi siano già stati compiuti, può essere necessario utilizzare delle tecniche di **regolarizzazione**."
   ]
  },
  {
   "cell_type": "markdown",
   "metadata": {},
   "source": [
    "## **Strategie di Regolarizzazione**"
   ]
  },
  {
   "cell_type": "markdown",
   "metadata": {},
   "source": [
    "Abbiamo già discusso delle strategie di **regolarizzazione** quando abbiamo visto la regressione logistica.\n",
    "\n",
    "In pratica, per comprendere il motivo per cui si usa la regolarizzazione possiamo usare il concetto di *rasoio di Occam*, ovvero, date due possibili spiegazioni per lo stesso fenomeno, quella che con tutta probabilità lo descrive in maniera migliore è anche la più semplice o, in altre parole, quella che assume il *minor numero di ipotesi*.\n",
    "\n",
    "Questo concetto si applica anche ad un modello di *rete neurale*: data un'architettura, esistono diverse combinazioni di valori di pesi che possono spiegare i dati, ed in generale le combinazioni più semplici corrono meno il rischio di andare in overfitting se comparati a quelli più complessi.\n",
    "\n",
    "Dalla precedente affermazione discende che un modo comune di mitigare l'overfitting del modello ai dati è inserire degli opportuni **vincoli** sulla *complessità* della rete, \"forzando\" i pesi ad assumere valori ridotti, e rendendo implicitamente la distribuzione di detti valori maggiormente *uniforme*. Questo procedimento, chiamato **weight regularization**, è ottenuto aggiungendo alla funzione di costo della rete un termine direttamente proporzionale al valore del peso. Di solito, si utilizzano due *tecniche di regolarizzazione*:\n",
    "\n",
    "- nella regolarizzazione **$L1$** il costo aggiunto è proporzionale al valore assoluto dei coefficienti dei pesi, ovvero alla norma $L^1$;\n",
    "\n",
    "- nella regolarizzazione **$L2$** il costo aggiunto è proporzionale al quadrato del valore dei coefficienti dei pesi, ovvero alla norma $L^2$."
   ]
  },
  {
   "cell_type": "markdown",
   "metadata": {},
   "source": [
    "In generale, la *regolarizzazione L1* favorisce la \"sparsità\" dei dati, forzando il valore di alcuni pesi a 0. Ciò non avviene con la *regolarizzazione L2*."
   ]
  },
  {
   "cell_type": "markdown",
   "metadata": {},
   "source": [
    "In Keras, possiamo aggiungere un parametro di regolarizzazione usando il package `regularizers` ed il parametro `kernel_regularizers` del layer da regolarizzare:"
   ]
  },
  {
   "cell_type": "code",
   "execution_count": 1,
   "metadata": {},
   "outputs": [],
   "source": [
    "#from keras import regularizers\n",
    "\n",
    "#layers.Dense(\n",
    " #   64,\n",
    "  #  activation='relu',\n",
    "   # kernel_regularizers=regularizers.l2(0.001))"
   ]
  },
  {
   "cell_type": "markdown",
   "metadata": {},
   "source": [
    "In questo caso, stiamo usando un valore di regolarizzazione pari a $0.001$ , il che significa che ogni peso del layer regolarizzato aggiungerà un valore pari a $0.001*w_i^2$ al costo totale della rete, con $w_i$ valore del peso dell'$i$-esimo coefficiente."
   ]
  },
  {
   "cell_type": "markdown",
   "metadata": {},
   "source": [
    "## **Dropout**"
   ]
  },
  {
   "cell_type": "markdown",
   "metadata": {},
   "source": [
    "Un altro metodo di regolarizzazione molto diffuso è dato dall'uso di uno **strato di dropout**.\n",
    "\n",
    "L'idea alla base del dropout sta nel fatto che ogni *nodo* della rete deve restituire in output delle *feature utili* a prescindere da quelle restituite dagli altri nodi. Per ottenere questo risultato, si fa in modo che un certo numero di neuroni (scelti in maniera casuale ad ogni iterazione) dello strato precedente venga ignorato dal layer che implementa il *dropout*.\n",
    "\n",
    "In questo modo, il layer modifica ad ogni iterazione la sua *connettività*, ottenendo in un certo senso un diverso \"punto di vista\" sui dati stessi: in tal senso, il dropout aggiunge in maniera artificiosa del **rumore** sul processo di apprendimento, forzando una maggiore o minore importanza delle connessioni a seconda dei nodi scartati, ed evitando quindi delle situazioni dove i layer di rete tendono ad *adattarsi* vicendevolmente per \"correggere\" gli errori di predizione. Di conseguenza, il modello acquisisce maggiore capacità di *generalizzazione*, visto e considerato che ogni neurone isolerà delle feature in maniera indipendente dagli altri.\n",
    "\n",
    "Per quello che riguarda gli *iperparametri* usati dal **layer di dropout**, il più importante è quello che specifica la probabilità con la quale gli output dello strato precedente vengono scartati. Un valore comune in tal senso è $0.5$ per gli strati nascosti, e $0.8$ per lo strato di input."
   ]
  },
  {
   "cell_type": "markdown",
   "metadata": {},
   "source": [
    "## **Esercizi**"
   ]
  },
  {
   "cell_type": "code",
   "execution_count": 2,
   "metadata": {},
   "outputs": [],
   "source": [
    "import matplotlib.pyplot as plt\n",
    "\n",
    "from keras.preprocessing.text import Tokenizer\n",
    "from keras.datasets import imdb\n",
    "from keras import models, layers, losses, regularizers, optimizers"
   ]
  },
  {
   "cell_type": "markdown",
   "metadata": {},
   "source": [
    "### **Es 10.0**\n",
    "\n",
    "Proviamo ad utilizzare il dataset IMDB movie da Keras per addestrare una rete neurale con la seguente struttura:\n",
    "\n",
    "Layer (type) | Output Shape | Param # \n",
    ":-----: | :--------: | :-----:\n",
    "**input (Dense)**   |  (None, 8)  | 8008\n",
    "**dense_1 (Dense)**  | (None, 8)  | 72\n",
    "**classification (Dense)**  | (None, 1)  | 9\n",
    "\n",
    "Proviamo ad aggiungere una regolarizzazione ed un dropout sul secondo layer, e compariamo i risultati ottenuti."
   ]
  },
  {
   "cell_type": "code",
   "execution_count": 3,
   "metadata": {},
   "outputs": [],
   "source": [
    "(x_train, y_train), (x_test, y_test) = imdb.load_data()"
   ]
  },
  {
   "cell_type": "code",
   "execution_count": 4,
   "metadata": {},
   "outputs": [],
   "source": [
    "tokenizer = Tokenizer(num_words=1000)\n",
    "x_train = tokenizer.sequences_to_matrix(x_train, mode='binary')\n",
    "x_test = tokenizer.sequences_to_matrix(x_test, mode='binary')"
   ]
  },
  {
   "cell_type": "code",
   "execution_count": 5,
   "metadata": {},
   "outputs": [
    {
     "name": "stdout",
     "output_type": "stream",
     "text": [
      "Epoch 1/10\n",
      "782/782 [==============================] - 7s 7ms/step - loss: 0.4155 - acc: 0.8120 - val_loss: 0.3370 - val_acc: 0.8565\n",
      "Epoch 2/10\n",
      "782/782 [==============================] - 7s 9ms/step - loss: 0.3238 - acc: 0.8662 - val_loss: 0.3318 - val_acc: 0.8586\n",
      "Epoch 3/10\n",
      "782/782 [==============================] - 5s 7ms/step - loss: 0.3176 - acc: 0.8668 - val_loss: 0.3309 - val_acc: 0.8585\n",
      "Epoch 4/10\n",
      "782/782 [==============================] - 6s 7ms/step - loss: 0.3098 - acc: 0.8708 - val_loss: 0.3319 - val_acc: 0.8574\n",
      "Epoch 5/10\n",
      "782/782 [==============================] - 6s 7ms/step - loss: 0.2988 - acc: 0.8746 - val_loss: 0.3334 - val_acc: 0.8535\n",
      "Epoch 6/10\n",
      "782/782 [==============================] - 6s 7ms/step - loss: 0.2880 - acc: 0.8780 - val_loss: 0.3372 - val_acc: 0.8522\n",
      "Epoch 7/10\n",
      "782/782 [==============================] - 6s 7ms/step - loss: 0.2773 - acc: 0.8826 - val_loss: 0.3414 - val_acc: 0.8562\n",
      "Epoch 8/10\n",
      "782/782 [==============================] - 6s 7ms/step - loss: 0.2661 - acc: 0.8862 - val_loss: 0.3481 - val_acc: 0.8530\n",
      "Epoch 9/10\n",
      "782/782 [==============================] - 6s 8ms/step - loss: 0.2562 - acc: 0.8900 - val_loss: 0.3575 - val_acc: 0.8493\n",
      "Epoch 10/10\n",
      "782/782 [==============================] - 6s 7ms/step - loss: 0.2484 - acc: 0.8940 - val_loss: 0.3585 - val_acc: 0.8504\n"
     ]
    }
   ],
   "source": [
    "model = models.Sequential()\n",
    "model.add(\n",
    "    layers.Dense(\n",
    "        8,\n",
    "        activation='relu',\n",
    "        input_shape=(1000,),\n",
    "        name='input'))\n",
    "model.add(\n",
    "    layers.Dense(\n",
    "        8,\n",
    "        activation='relu',\n",
    "        name='dense_1'))\n",
    "model.add(\n",
    "    layers.Dense(\n",
    "        1,\n",
    "        activation='sigmoid',\n",
    "        name='classification'))\n",
    "model.compile(optimizer=optimizers.Adam(),\n",
    "            loss=losses.BinaryCrossentropy(),\n",
    "            metrics=['acc'])\n",
    "\n",
    "history=model.fit(\n",
    "    x_train,\n",
    "    y_train,\n",
    "    epochs=10,\n",
    "    batch_size=32,\n",
    "    validation_data=(x_test, y_test))"
   ]
  },
  {
   "cell_type": "code",
   "execution_count": 6,
   "metadata": {},
   "outputs": [
    {
     "name": "stdout",
     "output_type": "stream",
     "text": [
      "Epoch 1/10\n",
      "782/782 [==============================] - 6s 7ms/step - loss: 0.2411 - acc: 0.8936 - val_loss: 0.3902 - val_acc: 0.8473\n",
      "Epoch 2/10\n",
      "782/782 [==============================] - 6s 7ms/step - loss: 0.2343 - acc: 0.8972 - val_loss: 0.3916 - val_acc: 0.8472\n",
      "Epoch 3/10\n",
      "782/782 [==============================] - 6s 7ms/step - loss: 0.2270 - acc: 0.9001 - val_loss: 0.4088 - val_acc: 0.8479\n",
      "Epoch 4/10\n",
      "782/782 [==============================] - 6s 7ms/step - loss: 0.2202 - acc: 0.9028 - val_loss: 0.4261 - val_acc: 0.8468\n",
      "Epoch 5/10\n",
      "782/782 [==============================] - 6s 7ms/step - loss: 0.2124 - acc: 0.9068 - val_loss: 0.4261 - val_acc: 0.8407\n",
      "Epoch 6/10\n",
      "782/782 [==============================] - 6s 7ms/step - loss: 0.2054 - acc: 0.9083 - val_loss: 0.4554 - val_acc: 0.8414\n",
      "Epoch 7/10\n",
      "782/782 [==============================] - 6s 7ms/step - loss: 0.1975 - acc: 0.9142 - val_loss: 0.4894 - val_acc: 0.8388\n",
      "Epoch 8/10\n",
      "782/782 [==============================] - 6s 7ms/step - loss: 0.1914 - acc: 0.9169 - val_loss: 0.4792 - val_acc: 0.8379\n",
      "Epoch 9/10\n",
      "782/782 [==============================] - 6s 7ms/step - loss: 0.1855 - acc: 0.9222 - val_loss: 0.5039 - val_acc: 0.8356\n",
      "Epoch 10/10\n",
      "782/782 [==============================] - 6s 7ms/step - loss: 0.1797 - acc: 0.9236 - val_loss: 0.5313 - val_acc: 0.8362\n"
     ]
    }
   ],
   "source": [
    "model_reg = models.Sequential()\n",
    "model_reg.add(layers.Dense(\n",
    "            8,\n",
    "            activation='relu',\n",
    "            input_shape=(1000,),\n",
    "            name='input'))\n",
    "model_reg.add(layers.Dense(\n",
    "            8,\n",
    "            activation='relu',\n",
    "            kernel_regularizer=regularizers.l2(0.001),\n",
    "            name='dense_1'))\n",
    "model_reg.add(layers.Dropout(\n",
    "    0.5,\n",
    "    name='dropout_1'))\n",
    "model_reg.add(\n",
    "    layers.Dense(\n",
    "        1,\n",
    "        activation='sigmoid',\n",
    "        name='classification'))\n",
    "model_reg.compile(optimizer=optimizers.Adam(),\n",
    "            loss=losses.BinaryCrossentropy(),\n",
    "            metrics=['acc'])\n",
    "\n",
    "history_reg = model.fit(\n",
    "    x_train,\n",
    "    y_train,\n",
    "    epochs=10,\n",
    "    batch_size=32,\n",
    "    validation_data=(x_test, y_test))"
   ]
  },
  {
   "cell_type": "code",
   "execution_count": 7,
   "metadata": {},
   "outputs": [
    {
     "data": {
      "image/png": "[encoded data removed]",
      "text/plain": [
       "<Figure size 640x480 with 1 Axes>"
      ]
     },
     "metadata": {},
     "output_type": "display_data"
    }
   ],
   "source": [
    "plt.plot(\n",
    "    range(1, 11),\n",
    "    history.history['val_acc'],\n",
    "    label='Validation accuracy (no reg)')\n",
    "plt.plot(\n",
    "    range(1, 11),\n",
    "    history_reg.history['val_acc'],\n",
    "    label='Validation accuracy (reg)')\n",
    "plt.legend()\n",
    "plt.grid()\n",
    "plt.xlabel('Training epoch')\n",
    "plt.ylabel('Accuracy (%)')\n",
    "plt.show()"
   ]
  }
 ],
 "metadata": {
  "kernelspec": {
   "display_name": "Python 3.9.13 ('base')",
   "language": "python",
   "name": "python3"
  },
  "language_info": {
   "codemirror_mode": {
    "name": "ipython",
    "version": 3
   },
   "file_extension": ".py",
   "mimetype": "text/x-python",
   "name": "python",
   "nbconvert_exporter": "python",
   "pygments_lexer": "ipython3",
   "version": "3.9.13"
  },
  "orig_nbformat": 4,
  "vscode": {
   "interpreter": {
    "hash": "2024b47f9e0e00785bf7b410773834da4047a250e58841a8c9925163fbfa3efc"
   }
  }
 },
 "nbformat": 4,
 "nbformat_minor": 2
}
