{
 "cells": [
  {
   "cell_type": "markdown",
   "metadata": {},
   "source": [
    "# **Sistemi di Apprendimento Supervisionato**\n",
    "\n",
    "## **Classificatori e Regressori**\n",
    "\n",
    "**Alberi decisionali**, metodi ensemble: **random forest**, reti neurali: **multilayer perceptron**"
   ]
  },
  {
   "cell_type": "markdown",
   "metadata": {},
   "source": [
    "## **Alberi Decisionali**"
   ]
  },
  {
   "cell_type": "markdown",
   "metadata": {},
   "source": [
    "Gli **alberi decisionali** creano un modello che predice una classe o un valore in output a partire da regole di tipo *binario* inferite dalle *feature* dei dati.\n",
    "\n",
    "Per far questo, utilizzano una tecnica chiamata **recursive partitioning**: in pratica, l'insieme di test viene suddiviso imponendo delle soglie sulle diverse variabili, le quali saranno modificate fino a che tutti i dati appartenenti ad una certa classe (o con valori simili di regressione) ricadono all'interno di uno stesso sottoinsieme.\n",
    "\n",
    "Gli alberi decisionali sono facili da interpretare, in quanto rappresentano una serie di *regole binarie*: un esempio è mostrato nella seguente figura.\n",
    "\n"
   ]
  },
  {
   "cell_type": "markdown",
   "metadata": {},
   "source": [
    "![albero](Images\\dt_vis.png)"
   ]
  },
  {
   "cell_type": "markdown",
   "metadata": {},
   "source": [
    "Inoltre, non richiedono particolari accortezze in fase di preparazione dei dati, ed hanno una complessità computazionale di tipo **logaritmico** (e quindi abbastanza bassa).\n",
    "\n",
    "Dall'altro lato, però, sono spesso soggetti ad **overfitting**, ed inoltre non assicurano una predizione continua, ma piuttosto un'*approssimazione lineare a tratti*."
   ]
  },
  {
   "cell_type": "markdown",
   "metadata": {},
   "source": [
    "**Scikit Learn** implementa due versioni degli alberi decisionali: la prima è dedicata alla *classificazione*, ed è chiamata `DecisionTreeClassifier()`, mentre la seconda è orientata alla *regressione* ed è chiamata `DecisionTreeRegressor()`."
   ]
  },
  {
   "cell_type": "markdown",
   "metadata": {},
   "source": [
    "## **Random Forest**"
   ]
  },
  {
   "cell_type": "markdown",
   "metadata": {},
   "source": [
    "I **random forest** sono dei **metodi ensemble** basati su *alberi decisionali*. Un metodo ensemble (letteralmente \"insieme\") permette di combinare i risultati provenienti da diversi algoritmi, ottenendo in generale risultati migliori.\n",
    "\n",
    "In particolare, il *random forest* sfrutta un insieme di alberi decisionali, ognuno dei quali modellato su un sottoinsieme di dati e feature presenti nel set di training;\n",
    "\n",
    "i risultati provenienti da ciascuno degli alberi saranno poi *mediati e combinati*. La presenza di queste due componenti di casualità permette di raggiungere un obiettivo ben preciso, ovvero **diminuire l'overfitting** proprio di un singolo albero decisionale, ottenendo un modello generalmente migliore.\n",
    "\n",
    "Anche per il random forest esistono due versioni, ovvero quella dedicata alla *regressione* `RandomForestRegressor()` e quella dedicata alla *classificazione* `RandomForestClassifier()`."
   ]
  },
  {
   "cell_type": "markdown",
   "metadata": {},
   "source": [
    "## **Multilayer Perceptron**"
   ]
  },
  {
   "cell_type": "markdown",
   "metadata": {},
   "source": [
    "Un **multilayer perceptron** è il più semplice modello di **rete neurale** che è possibile concepire. Nella pratica, è un algoritmo che considera una relazione del tipo:\n",
    "\n",
    "$$f:\\mathbb{R}^m\\to\\mathbb{R}^o$$\n",
    "\n",
    "dove $m$ è il numero di input ed $o$ è il numero di dimensioni per l'output.\n",
    "\n",
    "Ad esempio, se avessimo un insieme di feature $X=x_1,x_2,...x_m$ ed un'output $y$, sia esso una classe o un valore di regressione, il multilayer perceptron apprenderà una funzione $f:\\mathbb{R}^m\\to\\mathbb{R}^1$.\n",
    "\n",
    "Una rappresentazione del multilayer perceptron è mostrata nella seguente figura."
   ]
  },
  {
   "cell_type": "markdown",
   "metadata": {},
   "source": [
    "![mlp](Images\\mlp.png)"
   ]
  },
  {
   "cell_type": "markdown",
   "metadata": {},
   "source": [
    "Nella pratica, il **layer di input** (a sinistra) consiste di un insieme di neuroni, uno per ogni feature. Ogni neurone nello strato nascosto trasforma i valori del layer precedente con una sommatoria pesata $w_1x_1+w_2x_2+...+w_mx_m$ seguita da una funzione di *attivazione non lineare* del tipo $g:\\mathbb{R}\\to\\mathbb{R}$ .\n",
    "\n",
    "Le funzioni di attivazioni più usate sono state per lungo tempo le **sigmoidali** e le loro varianti. Vedremo in seguito come negli ultimi anni quelle maggiormente gettonate siano diventate le **ReLU**."
   ]
  },
  {
   "cell_type": "markdown",
   "metadata": {},
   "source": [
    "Nell'ultimo layer, infine, i valori ricevuti dal layer nascosto sono sommati e combinati nell'output."
   ]
  },
  {
   "cell_type": "markdown",
   "metadata": {},
   "source": [
    "Ovviamente, **Scikit Learn** offre due varianti dell'algoritmo, quella per la *classificazione* `MLPClassifier()` e quella per la *regressione* `MLPRegressor()`"
   ]
  },
  {
   "cell_type": "markdown",
   "metadata": {},
   "source": [
    "## **Esercizi**"
   ]
  },
  {
   "cell_type": "code",
   "execution_count": 1,
   "metadata": {},
   "outputs": [],
   "source": [
    "def warn(*args, **kwargs):\n",
    "    pass\n",
    "import warnings\n",
    "warnings.warn = warn\n",
    "\n",
    "import matplotlib.pyplot as plt\n",
    "import seaborn as sns\n",
    "\n",
    "from sklearn.tree import DecisionTreeClassifier, DecisionTreeRegressor, plot_tree\n",
    "from sklearn.ensemble import RandomForestClassifier, RandomForestRegressor\n",
    "from sklearn.neural_network import MLPClassifier, MLPRegressor\n",
    "\n",
    "from sklearn.model_selection import train_test_split\n",
    "from sklearn.metrics import precision_score, recall_score, accuracy_score, mean_squared_error"
   ]
  },
  {
   "cell_type": "markdown",
   "metadata": {},
   "source": [
    "### **Es 5.0**"
   ]
  },
  {
   "cell_type": "markdown",
   "metadata": {},
   "source": [
    "Operiamo sul problema visto nell'[Es 3.0](https://github.com/marcocecca00/PythonCalcoloScientifico/blob/main/Notes/Apprendimento%20Supervisionato%20-%20Regressione%20Lineare%20e%20Logistica.ipynb) usando un *albero decisionale*, un *random forest* ed un *multilayer perceptron*.\n",
    "\n",
    "Compariamo i risultati in termini di precisione, recall ed accuracy."
   ]
  },
  {
   "cell_type": "code",
   "execution_count": 2,
   "metadata": {},
   "outputs": [],
   "source": [
    "tips = sns.load_dataset('tips')\n",
    "\n",
    "# Preparazione del dataset per la regressione\n",
    "X_reg = tips['total_bill'].values.reshape(-1, 1)\n",
    "y_reg = tips['tip'].values.reshape(-1, 1)\n",
    "X_train_reg, X_test_reg, y_train_reg, y_test_reg = train_test_split(X_reg, y_reg)\n",
    "\n",
    "# Preparazione del dataset per la classificazione\n",
    "X_clf = tips.loc[:, ('total_bill', 'tip', 'size')].values\n",
    "y_clf = tips.loc[:, ('day')].values\n",
    "X_train_clf, X_test_clf, y_train_clf, y_test_clf = train_test_split(X_clf, y_clf)"
   ]
  },
  {
   "cell_type": "code",
   "execution_count": 3,
   "metadata": {},
   "outputs": [
    {
     "name": "stdout",
     "output_type": "stream",
     "text": [
      "Precisione\n",
      "DT 0.38\n",
      "RF 0.44\n",
      "MLP 0.28\n",
      "Recall\n",
      "DT 0.31\n",
      "RF 0.39\n",
      "MLP 0.44\n",
      "Accuratezza\n",
      "DT 0.31\n",
      "RF 0.39\n",
      "MLP 0.44\n"
     ]
    }
   ],
   "source": [
    "dt_clf = DecisionTreeClassifier()\n",
    "rf_clf = RandomForestClassifier()\n",
    "mlp_clf = MLPClassifier()\n",
    "# Fit\n",
    "dt_clf.fit(X_train_clf, y_train_clf)\n",
    "rf_clf.fit(X_train_clf, y_train_clf)\n",
    "mlp_clf.fit(X_train_clf, y_train_clf)\n",
    "# Visualizzazione risultati\n",
    "print('Precisione')\n",
    "print('DT {}'.format(round(precision_score(y_test_clf, dt_clf.predict(X_test_clf), average='weighted'), 2)))\n",
    "print('RF {}'.format(round(precision_score(y_test_clf, rf_clf.predict(X_test_clf), average='weighted'), 2)))\n",
    "print('MLP {}'.format(round(precision_score(y_test_clf, mlp_clf.predict(X_test_clf), average='weighted'), 2)))\n",
    "\n",
    "print('Recall')\n",
    "print('DT {}'.format(round(recall_score(y_test_clf, dt_clf.predict(X_test_clf), average='weighted'), 2)))\n",
    "print('RF {}'.format(round(recall_score(y_test_clf, rf_clf.predict(X_test_clf), average='weighted'), 2)))\n",
    "print('MLP {}'.format(round(recall_score(y_test_clf, mlp_clf.predict(X_test_clf), average='weighted'), 2)))\n",
    "\n",
    "print('Accuratezza')\n",
    "print('DT {}'.format(round(accuracy_score(y_test_clf, dt_clf.predict(X_test_clf)), 2)))\n",
    "print('RF {}'.format(round(accuracy_score(y_test_clf, rf_clf.predict(X_test_clf)), 2)))\n",
    "print('MLP {}'.format(round(accuracy_score(y_test_clf, mlp_clf.predict(X_test_clf)), 2)))"
   ]
  },
  {
   "cell_type": "markdown",
   "metadata": {},
   "source": [
    "### **Es 5.1**"
   ]
  },
  {
   "cell_type": "markdown",
   "metadata": {},
   "source": [
    "Operiamo sul problema visto nell'[Es 2.1](https://github.com/marcocecca00/PythonCalcoloScientifico/blob/main/Notes/Apprendimento%20Supervisionato%20-%20Regressione%20Lineare%20e%20Logistica.ipynb) usando un albero decisionale, un random forest ed un multilayer perceptron.\n",
    "\n",
    "Compariamo i risultati in termini di errore quadratico medio usando la funzione `mean_squared_error` del package `sklearn.metrics`."
   ]
  },
  {
   "cell_type": "code",
   "execution_count": 4,
   "metadata": {},
   "outputs": [
    {
     "name": "stdout",
     "output_type": "stream",
     "text": [
      "MSE\n",
      "DT 1.83\n",
      "RF 1.47\n",
      "MLP 1.31\n"
     ]
    }
   ],
   "source": [
    "dt_reg = DecisionTreeRegressor()\n",
    "rf_reg = RandomForestRegressor()\n",
    "mlp_reg = MLPRegressor()\n",
    "# Fit\n",
    "dt_reg.fit(X_train_reg, y_train_reg)\n",
    "rf_reg.fit(X_train_reg, y_train_reg)\n",
    "mlp_reg.fit(X_train_reg, y_train_reg)\n",
    "# Visualizzazione risultati\n",
    "print('MSE')\n",
    "print('DT {}'.format(round(mean_squared_error(y_test_reg, dt_reg.predict(X_test_reg)), 2)))\n",
    "print('RF {}'.format(round(mean_squared_error(y_test_reg, rf_reg.predict(X_test_reg)), 2)))\n",
    "print('MLP {}'.format(round(mean_squared_error(y_test_reg, mlp_reg.predict(X_test_reg)), 2)))"
   ]
  },
  {
   "cell_type": "markdown",
   "metadata": {},
   "source": [
    "### **Es 5.2**"
   ]
  },
  {
   "cell_type": "markdown",
   "metadata": {},
   "source": [
    "Esploriamo i risultati ottenuti dall'albero decisionale nell'esercizio **Es 5.0**. Per farlo, usiamo il metodo `plot_tree` del package `sklearn.tree`."
   ]
  },
  {
   "cell_type": "code",
   "execution_count": 5,
   "metadata": {},
   "outputs": [
    {
     "data": {
      "text/plain": [
       "[]"
      ]
     },
     "execution_count": 5,
     "metadata": {},
     "output_type": "execute_result"
    },
    {
     "data": {
      "image/png": "[encoded data removed]",
      "text/plain": [
       "<Figure size 640x480 with 1 Axes>"
      ]
     },
     "metadata": {},
     "output_type": "display_data"
    }
   ],
   "source": [
    "plot_tree(\n",
    "    dt_clf,\n",
    "    max_depth=1,\n",
    "    feature_names=['total_bill', 'tip', 'size'],\n",
    "    class_names=['Thu', 'Fri', 'Sat', 'Sun'])\n",
    "plt.plot()"
   ]
  },
  {
   "cell_type": "markdown",
   "metadata": {},
   "source": [
    "### **Es 5.3**"
   ]
  },
  {
   "cell_type": "markdown",
   "metadata": {},
   "source": [
    "Proviamo a variare leggermente alcuni parametri per i classificatori ed i regressori usati negli esercizi precedenti. Confrontiamo i risultati ottenuti nei termini delle metriche viste in precedenza."
   ]
  },
  {
   "cell_type": "code",
   "execution_count": 6,
   "metadata": {},
   "outputs": [
    {
     "name": "stdout",
     "output_type": "stream",
     "text": [
      "Precisione\n",
      "DT 0.28\n",
      "RF 0.35\n",
      "MLP 0.24\n",
      "Recall\n",
      "DT 0.29\n",
      "RF 0.35\n",
      "MLP 0.25\n",
      "Accuratezza\n",
      "DT 0.34\n",
      "RF 0.43\n",
      "MLP 0.38\n"
     ]
    }
   ],
   "source": [
    "dt_clf_new = DecisionTreeClassifier(max_depth=2)\n",
    "rf_clf_new = RandomForestClassifier(n_estimators=150)\n",
    "mlp_clf_new = MLPClassifier(hidden_layer_sizes=(5, 50))\n",
    "# Fit\n",
    "dt_clf_new.fit(X_train_clf, y_train_clf)\n",
    "rf_clf_new.fit(X_train_clf, y_train_clf)\n",
    "mlp_clf_new.fit(X_train_clf, y_train_clf)\n",
    "# Visualizzazione risultati\n",
    "print('Precisione')\n",
    "print('DT {}'.format(round(precision_score(y_test_clf, dt_clf_new.predict(X_test_clf), average='macro'), 2)))\n",
    "print('RF {}'.format(round(precision_score(y_test_clf, rf_clf_new.predict(X_test_clf), average='macro'), 2)))\n",
    "print('MLP {}'.format(round(precision_score(y_test_clf, mlp_clf_new.predict(X_test_clf), average='macro'), 2)))\n",
    "print('Recall')\n",
    "print('DT {}'.format(round(recall_score(y_test_clf, dt_clf_new.predict(X_test_clf), average='macro'), 2)))\n",
    "print('RF {}'.format(round(recall_score(y_test_clf, rf_clf_new.predict(X_test_clf), average='macro'), 2)))\n",
    "print('MLP {}'.format(round(recall_score(y_test_clf, mlp_clf_new.predict(X_test_clf), average='macro'), 2)))\n",
    "print('Accuratezza')\n",
    "print('DT {}'.format(round(accuracy_score(y_test_clf, dt_clf_new.predict(X_test_clf)), 2)))\n",
    "print('RF {}'.format(round(accuracy_score(y_test_clf, rf_clf_new.predict(X_test_clf)), 2)))\n",
    "print('MLP {}'.format(round(accuracy_score(y_test_clf, mlp_clf_new.predict(X_test_clf)), 2)))"
   ]
  },
  {
   "cell_type": "code",
   "execution_count": null,
   "metadata": {},
   "outputs": [],
   "source": []
  }
 ],
 "metadata": {
  "kernelspec": {
   "display_name": "Python 3.9.13 ('base')",
   "language": "python",
   "name": "python3"
  },
  "language_info": {
   "codemirror_mode": {
    "name": "ipython",
    "version": 3
   },
   "file_extension": ".py",
   "mimetype": "text/x-python",
   "name": "python",
   "nbconvert_exporter": "python",
   "pygments_lexer": "ipython3",
   "version": "3.9.13"
  },
  "orig_nbformat": 4,
  "vscode": {
   "interpreter": {
    "hash": "2024b47f9e0e00785bf7b410773834da4047a250e58841a8c9925163fbfa3efc"
   }
  }
 },
 "nbformat": 4,
 "nbformat_minor": 2
}
