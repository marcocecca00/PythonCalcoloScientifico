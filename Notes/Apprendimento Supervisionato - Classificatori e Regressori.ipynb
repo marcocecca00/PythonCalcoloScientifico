{
 "cells": [
  {
   "cell_type": "markdown",
   "metadata": {},
   "source": [
    "# **Sistemi di Apprendimento Supervisionato**\n",
    "\n",
    "## **Classificatori e Regressori**\n",
    "\n",
    "**Alberi decisionali**, metodi ensemble: **random forest**, reti neurali: **multilayer perceptron**"
   ]
  },
  {
   "cell_type": "markdown",
   "metadata": {},
   "source": []
  }
 ],
 "metadata": {
  "kernelspec": {
   "display_name": "Python 3.9.13 ('base')",
   "language": "python",
   "name": "python3"
  },
  "language_info": {
   "name": "python",
   "version": "3.9.13"
  },
  "orig_nbformat": 4,
  "vscode": {
   "interpreter": {
    "hash": "2024b47f9e0e00785bf7b410773834da4047a250e58841a8c9925163fbfa3efc"
   }
  }
 },
 "nbformat": 4,
 "nbformat_minor": 2
}
