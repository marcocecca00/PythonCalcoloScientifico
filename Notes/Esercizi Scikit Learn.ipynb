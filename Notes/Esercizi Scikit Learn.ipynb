{
 "cells": [
  {
   "cell_type": "markdown",
   "metadata": {},
   "source": [
    "# **Esercizi**\n",
    "## *Esercitazione su Scikit Learn*"
   ]
  },
  {
   "cell_type": "code",
   "execution_count": 1,
   "metadata": {},
   "outputs": [],
   "source": [
    "import matplotlib.pyplot as plt\n",
    "\n",
    "import seaborn as sns\n",
    "\n",
    "from sklearn.cluster import KMeans\n",
    "from sklearn.datasets import load_diabetes, load_iris\n",
    "from sklearn.feature_selection import (\n",
    "    SelectKBest,\n",
    "    mutual_info_regression,\n",
    "    mutual_info_classif)\n",
    "from sklearn.linear_model import (\n",
    "    LinearRegression,\n",
    "    LogisticRegression)\n",
    "from sklearn.metrics import (\n",
    "    adjusted_rand_score,\n",
    "    mean_absolute_percentage_error,\n",
    "    precision_score,\n",
    "    recall_score)\n",
    "from sklearn.model_selection import GridSearchCV\n",
    "from sklearn.pipeline import Pipeline\n",
    "from sklearn.preprocessing import StandardScaler\n",
    "from sklearn.tree import (\n",
    "    DecisionTreeClassifier,\n",
    "    DecisionTreeRegressor)"
   ]
  },
  {
   "cell_type": "markdown",
   "metadata": {},
   "source": [
    "## **Es 9.0**"
   ]
  },
  {
   "cell_type": "markdown",
   "metadata": {},
   "source": [
    "Caricare i dataset Diabetes (a scopo di *regressione*) ed Iris (a scopo di *classificazione*). Visualizzarne rapidamente la struttura.\n",
    "\n",
    "- Studiare le feature e la distribuzione delle stesse del dataset Diabetes.\n",
    "- Effettuare un'analisi delle **cross-correlazioni** presenti tra le feature del dataset Diabetes. Utilizzare il $\\tau$ di Kendall.\n",
    "- Isolare le $k$ feature più importanti del dataset Diabetes. Per farlo, utilizzare un oggetto di classe `SelectKBest()` scegliendo la metrica più appropriata tra `mutual_info_regression` e `mutual_info_classif`.\n",
    "- Comparare i risultati di regressione ottenuti da un regressore lineare e da un albero decisionale in termini di *MAPE*.\n",
    "- Provare ad eseguire una `GridSearchCV` sull'albero decisionale, e valutare se i risultati in termini di MAPE migliorano.\n",
    "\n",
    "Ripetere gli stessi step degli esercizi precedenti per il dataset Iris.\n",
    "\n",
    "- Comparare, per mezzo di due pipeline, i risultati ottenuti effettuando il **clustering** mediante algoritmo **KMeans** sui dati di Iris con e senza *feature selection*."
   ]
  },
  {
   "cell_type": "markdown",
   "metadata": {},
   "source": []
  },
  {
   "cell_type": "markdown",
   "metadata": {},
   "source": []
  },
  {
   "cell_type": "markdown",
   "metadata": {},
   "source": []
  }
 ],
 "metadata": {
  "kernelspec": {
   "display_name": "Python 3.9.13 ('base')",
   "language": "python",
   "name": "python3"
  },
  "language_info": {
   "codemirror_mode": {
    "name": "ipython",
    "version": 3
   },
   "file_extension": ".py",
   "mimetype": "text/x-python",
   "name": "python",
   "nbconvert_exporter": "python",
   "pygments_lexer": "ipython3",
   "version": "3.9.13"
  },
  "orig_nbformat": 4,
  "vscode": {
   "interpreter": {
    "hash": "2024b47f9e0e00785bf7b410773834da4047a250e58841a8c9925163fbfa3efc"
   }
  }
 },
 "nbformat": 4,
 "nbformat_minor": 2
}
