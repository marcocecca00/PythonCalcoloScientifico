{
 "cells": [
  {
   "cell_type": "markdown",
   "metadata": {},
   "source": [
    "# **Machine Learning**\n",
    "## *Introduzione e Definizione del Problema*\n",
    "\n",
    "Introduzione al machine learning, classificazione dei sistemi di apprendimento e scelta del modello."
   ]
  },
  {
   "cell_type": "markdown",
   "metadata": {},
   "source": [
    "## **Introduzione**"
   ]
  },
  {
   "cell_type": "markdown",
   "metadata": {},
   "source": [
    "Il **machine learning** è un sottoinsieme della *statistica*, ci offre il più delle volte un modo *più efficace* (ovviamente tale approccio non è in assoluto la soluzione migliore) di risolvere problemi complessi:\n",
    "\n",
    "- Prevede un processo di **addestramento** di un software, chiamato *modello*, che viene utilizzato per fare predizioni a partire da un insieme di dati\n",
    "- È contrapposto all’approccio tradizionale.\n",
    "\n",
    "Ad esempio:\n",
    "\n",
    "un sistema di previsioni meteo tradizionale si affida a complesse equazioni che stimano valori di umidità,\n",
    "pressione e pioggia, mentre un sistema di previsioni meteo basato su machine learning si affida ad un *algoritmo* in grado di fare previsioni a partire da un addestramento su grosse quantità di dati.\n",
    "\n",
    "Esistono sistemi ad apprendimento **supervisionato**, **non supervisionato** e di\n",
    "**reinforcement learning**."
   ]
  },
  {
   "cell_type": "markdown",
   "metadata": {},
   "source": [
    "### **Sistemi di apprendimento *Supervisionato***"
   ]
  },
  {
   "cell_type": "markdown",
   "metadata": {},
   "source": [
    "I sistemi ad apprendimento supervisionato partono da un insieme di **dati etichettati**. In pratica, un esperto di dominio definisce il valore da predire a partire per un certo campione, ed il modello è delegato ad individuare le relazioni che intercorrono tra le **feature** in input ed il valore atteso. La **label** può essere vista come la classe di appartenenza o il valore da dover raggiungere (*Processo di Labeling*).\n",
    "\n",
    "I sistemi ad apprendimento supervisionato si dividono in due categorie principali:\n",
    "- **Modelli di regressione** predicono un dato di tipo *numerico*\n",
    "- **Modelli di classificazione** predicono un dato di tipo *categorico* (ovvero una *classe*)"
   ]
  },
  {
   "cell_type": "markdown",
   "metadata": {},
   "source": [
    "### **Sistemi di apprendimento *Non Supervisionato***"
   ]
  },
  {
   "cell_type": "markdown",
   "metadata": {},
   "source": [
    "I sistemi ad apprendimento non\n",
    "supervisionato inferiscono la\n",
    "suddivisione dei dati senza alcun\n",
    "apporto esterno. **Non necessitano di una etichettatura**\n",
    "effettuata da esperti di dominio."
   ]
  },
  {
   "cell_type": "markdown",
   "metadata": {},
   "source": [
    "Tipici esempi sono:\n",
    "\n",
    "- **Algoritmi di clustering**: questi algoritmi suddividono lo spazio dei campioni sulla base di *metriche di distanza* o *criteri di agglomerazione*.\n",
    "\n",
    "Il clustering è diverso dalla classificazione! In questo caso non sappiamo quante labels ci sono, ossia quanti cluster ci sono a priori nello *spazio delle features* N-dimensionale.\n",
    "\n"
   ]
  },
  {
   "cell_type": "markdown",
   "metadata": {},
   "source": [
    "### **Sistemi di *Reinforcement Learning***"
   ]
  },
  {
   "cell_type": "markdown",
   "metadata": {},
   "source": [
    "I sistemi di reinforcement learning\n",
    "sono concettualmente differenti da\n",
    "quelli di apprendimento:\n",
    "- Prevedono che un **agente** effettui una\n",
    "azione all’interno di un ambiente sulla\n",
    "base di una **ricompensa**\n",
    "- La ricompensa viene valutata sulla base\n",
    "dello stato attuale dell’ambiente"
   ]
  },
  {
   "cell_type": "markdown",
   "metadata": {},
   "source": [
    "## **Definizione del Problema**"
   ]
  },
  {
   "cell_type": "markdown",
   "metadata": {},
   "source": [
    "Fondamentale nel machine learning come primo step è comprendere e capire l'**obiettivo** e l'**output atteso**."
   ]
  },
  {
   "cell_type": "markdown",
   "metadata": {},
   "source": [
    "Applicazione | Obiettivo del problema | Output atteso\n",
    ":-----: | :--------: | :-----:\n",
    "**Previsione Meteo**   | Calcolare le precipitazioni orarie in una determinata zona | Predizione delle precipitazione orarie\n",
    "**Spam Detector**  | Individuare lo spam  | Alert per un possibile spam\n",
    "**Previsione Bancaria**   | Identificare transazioni fraudolente | Blocco transazioni sospette\n",
    "**Identificazione degli oggetti**  | Individuare il tipo di oggetto in una foto  | Classe dell’oggetto rappresentato"
   ]
  },
  {
   "cell_type": "markdown",
   "metadata": {},
   "source": [
    "I dati devono avere diverse *caratteristiche*:\n",
    "- Abbondanza\n",
    "- Consistenza\n",
    "- Affidabilità\n",
    "- Disponibilità\n",
    "- Correttezza\n",
    "- Rappresentatività\n",
    "\n",
    "Se i dati non le rispettano, potrebbe essere impossibile avere modelli con\n",
    "prestazioni adeguate.\n",
    "\n",
    "Ecco dei possibili esempi di dati ‘desiderabili’ nelle applicazioni precedenti:"
   ]
  },
  {
   "cell_type": "markdown",
   "metadata": {},
   "source": [
    "Applicazione | Dati desiderabili (un esempio)\n",
    ":-----: | :--------:\n",
    "**Previsione Meteo**   | Serie storiche su temperatura, pressione, umidità e precipitazioni per ogni giorno nei cento anni precedenti \n",
    "**Spam Detector**  | Numerosi esempi di mail ordinarie e di spam provenienti da mittenti eterogenei \n",
    "**Previsione Bancaria**   | Numerosi esempi di transazioni ordinarie e fraudolente prese in contesti eterogenei e variegati \n",
    "**Identificazione degli oggetti**  | Numerose foto di oggetti differenti in diverse angolazioni, pose, condizioni di illuminazione ed effetti di occlusione o rumore"
   ]
  },
  {
   "cell_type": "markdown",
   "metadata": {},
   "source": [
    "E la successiva scelta del modello, strettament correlata agli step precedenti:"
   ]
  },
  {
   "cell_type": "markdown",
   "metadata": {},
   "source": [
    "Applicazione | Modello | Output atteso\n",
    ":-----: | :--------: | :-----:\n",
    "**Previsione Meteo**   | Modello di regressione univariata | Predizione delle precipitazione orarie\n",
    "**Spam Detector**  | Modello di classificazione binaria  | Alert per un possibile spam\n",
    "**Previsione Bancaria**   | Modello di classificazione binaria | Blocco transazioni sospette\n",
    "**Identificazione degli oggetti**  | Modello di classificazione multiclasse  | Classe dell’oggetto rappresentato"
   ]
  }
 ],
 "metadata": {
  "kernelspec": {
   "display_name": "Python 3 (ipykernel)",
   "language": "python",
   "name": "python3"
  },
  "language_info": {
   "codemirror_mode": {
    "name": "ipython",
    "version": 3
   },
   "file_extension": ".py",
   "mimetype": "text/x-python",
   "name": "python",
   "nbconvert_exporter": "python",
   "pygments_lexer": "ipython3",
   "version": "3.9.12"
  },
  "vscode": {
   "interpreter": {
    "hash": "2024b47f9e0e00785bf7b410773834da4047a250e58841a8c9925163fbfa3efc"
   }
  }
 },
 "nbformat": 4,
 "nbformat_minor": 2
}
