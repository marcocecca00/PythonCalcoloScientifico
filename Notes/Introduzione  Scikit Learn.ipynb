{
 "cells": [
  {
   "cell_type": "markdown",
   "metadata": {},
   "source": [
    "# **Introduzione a Scikit Learn**\n",
    "## *Stimatori, Transformer e Preprocessing*\n",
    "Breve introduzione all'uso della libreria *Scikit Learn*"
   ]
  },
  {
   "cell_type": "markdown",
   "metadata": {},
   "source": [
    "**Scikit Learn** è una tra le librerie per il machine learning più utilizzate in Python. Ciò avviene principalmente per tre fattori:\n",
    "\n",
    "- il supporto ad un numero molto elevato di algoritmi di machine learning.\n",
    "- la semplicità di utilizzo della libreria.\n",
    "- la perfetta integrazione con NumPy e Pandas.\n",
    "\n",
    "Partiamo quindi nella nostra discussione sulla libreria da una panoramica ad ampio spettro delle potenzialità della stessa."
   ]
  },
  {
   "cell_type": "markdown",
   "metadata": {},
   "source": [
    "## **Stimatori e Transformer**"
   ]
  },
  {
   "cell_type": "markdown",
   "metadata": {},
   "source": [
    "Scikit Learn si basa su due concetti fondamentali, ovvero quelli di **estimator** (*stimatore*) e di **transformer** (*trasformatore di dati*).\n",
    "\n",
    "In particolare, un *estimator* è l'implementazione di uno specifico algoritmo di machine learning, mentre un transformer è un algoritmo che effettua delle trasformazioni sui dati.\n",
    "\n",
    "Ad esempio, le istanze delle classi `RandomForestClassifier` e `DBSCAN` sono degli *estimator*, mentre quelle della classe `StandardScaler` sono dei transformer.\n",
    "\n",
    "Questa suddivisione permette di implementare un'interfaccia comune, la quale offre nella maggior parte dei casi i metodi `fit()`,  `transform()` e `predict()`: rispettivamente *fit()* è comune, mentre *transform* e *predict* rispettivamente sono usati per l'addestramento e la trasformazione dei dati.\n",
    "\n",
    "Tuttavia, è importante notare come ogni stimatore e transformer abbiano **parametri specifici** e dipendenti dalla natura dell'algoritmo utilizzato. Ogni algoritmo, inoltre, andrà verificato secondo delle opportune **metriche**, che permettono di definire, in termini percentuali o assoluti, l'**accuratezza** dell'algoritmo utilizzato."
   ]
  },
  {
   "cell_type": "markdown",
   "metadata": {},
   "source": [
    "## **Preprocessing**"
   ]
  },
  {
   "cell_type": "markdown",
   "metadata": {},
   "source": [
    "Abbiamo visto come spesso sia necessario effettuare delle operazioni di **preprocessing** sui dati. In tal senso, gli strumenti che utilizzeremo maggiormente sono:\n",
    "\n",
    "- **Imputer**\n",
    "\n",
    "    Per asssegnare *valori mancanti*, come ad esempio gli oggetti di classe `SimpleImputer` o `IterativeImputer` o `KNNImputer`\n",
    "- **Scaler**\n",
    "\n",
    "    Per trasformare le feature numeriche come ad esempio gli oggetti di classe `MinMaxScaler` e `StandardScaler`.\n",
    "- **Enconder**\n",
    "\n",
    "    Per trasformare le feature categoriche come ad esempio gli oggetti di classe `OrdinalEncoder` e `OneHotEncoder`.\n",
    "\n"
   ]
  },
  {
   "cell_type": "markdown",
   "metadata": {},
   "source": [
    "Classe | Applicazione\n",
    ":-----: | :--------:\n",
    "**SimpleImputer**    | Assegna un valore ad una feature mancante sulla base degli altri valori della stessa, secondo una strategia ben definita (ad esempio, la media). \n",
    "**IterativeImputer**   | Assegna un valore ad una feature mancante come funzione dei valori assunti dalle altre feature. Tale valore è assegnato usando un approccio di regressione (anche multivariata) tra le altre feature e la feature target.\n",
    "**KNNImputer**  | Il k-nearest neighbor utilizzato nel riconoscimento di pattern per la classificazione di oggetti basandosi sulle caratteristiche degli oggetti vicini a quello considerato\n",
    "**MinMaxScaler** | Normalizza i valori assunti dalle feature nel range che va tra un certo minimo ed un certo massimo\n",
    "**StandardScaler**   | Standardizza i valori assunti dalle feature in modo da farli distribuire secondo una gaussiana a media nulla e varianza unitaria. \n",
    "**OrdinalEncoder**   | Codifica una feature categoriche in un range che va 0 ad 𝑛 − 1, con 𝑛 numero di possibili valori assunti dalla feature.\n",
    "**OneHotEncoder**    | Codifica una feature categorica mediante la tecnica del one hot encoding\n"
   ]
  },
  {
   "cell_type": "markdown",
   "metadata": {},
   "source": []
  }
 ],
 "metadata": {
  "kernelspec": {
   "display_name": "Python 3.9.12 ('base')",
   "language": "python",
   "name": "python3"
  },
  "language_info": {
   "name": "python",
   "version": "3.9.12"
  },
  "orig_nbformat": 4,
  "vscode": {
   "interpreter": {
    "hash": "2024b47f9e0e00785bf7b410773834da4047a250e58841a8c9925163fbfa3efc"
   }
  }
 },
 "nbformat": 4,
 "nbformat_minor": 2
}
